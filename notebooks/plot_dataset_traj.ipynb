{
 "cells": [
  {
   "cell_type": "code",
   "execution_count": 9,
   "metadata": {},
   "outputs": [],
   "source": [
    "import matplotlib.pyplot as plt\n",
    "import numpy as np"
   ]
  },
  {
   "cell_type": "code",
   "execution_count": 7,
   "metadata": {},
   "outputs": [],
   "source": [
    "def fill_zero(num):\n",
    "    num_str = str(num)\n",
    "    return (3-len(num_str))*'0'+num_str"
   ]
  },
  {
   "cell_type": "code",
   "execution_count": 16,
   "metadata": {},
   "outputs": [
    {
     "data": {
      "text/plain": [
       "<Figure size 640x480 with 0 Axes>"
      ]
     },
     "metadata": {},
     "output_type": "display_data"
    }
   ],
   "source": [
    "for i in range(12):\n",
    "    if i==3 or i==7:\n",
    "        continue\n",
    "    dataset_path = f'/home/link/Projects/curly_slam/data/tartanair/scenes/abandonedfactory/Easy/P{fill_zero(i)}/'\n",
    "    pose_file = dataset_path+'pose_left.txt'\n",
    "    with open(pose_file) as f:\n",
    "        lines = f.readlines()\n",
    "    traj = np.ones([len(lines), 3])\n",
    "    for j, line in enumerate(lines):\n",
    "        data = [float(x) for x in line.split(' ')]\n",
    "        traj[j] = data[:3]\n",
    "    plt.plot(traj[:, 0], traj[:, 1])\n",
    "    plt.savefig(f'traj/abandond_factory_{i}.jpg')\n",
    "    plt.clf()"
   ]
  },
  {
   "cell_type": "code",
   "execution_count": null,
   "metadata": {},
   "outputs": [],
   "source": []
  }
 ],
 "metadata": {
  "kernelspec": {
   "display_name": "base",
   "language": "python",
   "name": "python3"
  },
  "language_info": {
   "codemirror_mode": {
    "name": "ipython",
    "version": 3
   },
   "file_extension": ".py",
   "mimetype": "text/x-python",
   "name": "python",
   "nbconvert_exporter": "python",
   "pygments_lexer": "ipython3",
   "version": "3.10.9"
  },
  "orig_nbformat": 4
 },
 "nbformat": 4,
 "nbformat_minor": 2
}
